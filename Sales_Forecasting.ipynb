{
 "cells": [
  {
   "cell_type": "code",
   "execution_count": 39,
   "id": "c65e49fa",
   "metadata": {},
   "outputs": [],
   "source": [
    "import pandas as pd"
   ]
  },
  {
   "cell_type": "code",
   "execution_count": 40,
   "id": "7682c57a",
   "metadata": {},
   "outputs": [
    {
     "name": "stderr",
     "output_type": "stream",
     "text": [
      "/var/folders/33/dstpxqh5109gh90wtbftwcb00000gn/T/ipykernel_32547/1393656629.py:1: DtypeWarning: Columns (6,14) have mixed types. Specify dtype option on import or set low_memory=False.\n",
      "  data = pd.read_csv(\"Liquor_Sales.csv\")\n"
     ]
    }
   ],
   "source": [
    "data = pd.read_csv(\"Liquor_Sales.csv\")"
   ]
  },
  {
   "cell_type": "code",
   "execution_count": 41,
   "id": "527623c0",
   "metadata": {},
   "outputs": [
    {
     "data": {
      "text/html": [
       "<div>\n",
       "<style scoped>\n",
       "    .dataframe tbody tr th:only-of-type {\n",
       "        vertical-align: middle;\n",
       "    }\n",
       "\n",
       "    .dataframe tbody tr th {\n",
       "        vertical-align: top;\n",
       "    }\n",
       "\n",
       "    .dataframe thead th {\n",
       "        text-align: right;\n",
       "    }\n",
       "</style>\n",
       "<table border=\"1\" class=\"dataframe\">\n",
       "  <thead>\n",
       "    <tr style=\"text-align: right;\">\n",
       "      <th></th>\n",
       "      <th>Invoice/Item Number</th>\n",
       "      <th>Date</th>\n",
       "      <th>Store Number</th>\n",
       "      <th>Store Name</th>\n",
       "      <th>Address</th>\n",
       "      <th>City</th>\n",
       "      <th>Zip Code</th>\n",
       "      <th>Store Location</th>\n",
       "      <th>County Number</th>\n",
       "      <th>County</th>\n",
       "      <th>...</th>\n",
       "      <th>Item Number</th>\n",
       "      <th>Item Description</th>\n",
       "      <th>Pack</th>\n",
       "      <th>Bottle Volume (ml)</th>\n",
       "      <th>State Bottle Cost</th>\n",
       "      <th>State Bottle Retail</th>\n",
       "      <th>Bottles Sold</th>\n",
       "      <th>Sale (Dollars)</th>\n",
       "      <th>Volume Sold (Liters)</th>\n",
       "      <th>Volume Sold (Gallons)</th>\n",
       "    </tr>\n",
       "  </thead>\n",
       "  <tbody>\n",
       "    <tr>\n",
       "      <th>0</th>\n",
       "      <td>S24127700024</td>\n",
       "      <td>02/19/2015</td>\n",
       "      <td>3678</td>\n",
       "      <td>Smoke Shop, The</td>\n",
       "      <td>1918 SE 14TH ST</td>\n",
       "      <td>DES MOINES</td>\n",
       "      <td>50320</td>\n",
       "      <td>POINT (-93.597011 41.570844)</td>\n",
       "      <td>77.0</td>\n",
       "      <td>Polk</td>\n",
       "      <td>...</td>\n",
       "      <td>41783</td>\n",
       "      <td>Uv Blue Raspberry Vodka Mini</td>\n",
       "      <td>6</td>\n",
       "      <td>500</td>\n",
       "      <td>4.89</td>\n",
       "      <td>7.34</td>\n",
       "      <td>2</td>\n",
       "      <td>14.68</td>\n",
       "      <td>1.0</td>\n",
       "      <td>0.26</td>\n",
       "    </tr>\n",
       "    <tr>\n",
       "      <th>1</th>\n",
       "      <td>S15066200002</td>\n",
       "      <td>10/10/2013</td>\n",
       "      <td>2633</td>\n",
       "      <td>Hy-Vee #3 / BDI / Des Moines</td>\n",
       "      <td>3221 SE 14TH ST</td>\n",
       "      <td>DES MOINES</td>\n",
       "      <td>50320</td>\n",
       "      <td>POINT (-93.596754 41.554101)</td>\n",
       "      <td>77.0</td>\n",
       "      <td>Polk</td>\n",
       "      <td>...</td>\n",
       "      <td>904969</td>\n",
       "      <td>Sabe Premiom Sake Double Barrel</td>\n",
       "      <td>6</td>\n",
       "      <td>750</td>\n",
       "      <td>14.99</td>\n",
       "      <td>22.49</td>\n",
       "      <td>6</td>\n",
       "      <td>134.94</td>\n",
       "      <td>4.5</td>\n",
       "      <td>1.19</td>\n",
       "    </tr>\n",
       "    <tr>\n",
       "      <th>2</th>\n",
       "      <td>S19323500030</td>\n",
       "      <td>06/03/2014</td>\n",
       "      <td>2607</td>\n",
       "      <td>Hy-Vee Wine and Spirits / Shenandoah</td>\n",
       "      <td>520 SO FREMONT</td>\n",
       "      <td>SHENANDOAH</td>\n",
       "      <td>51601</td>\n",
       "      <td>POINT (-95.385111 40.761736)</td>\n",
       "      <td>73.0</td>\n",
       "      <td>Page</td>\n",
       "      <td>...</td>\n",
       "      <td>45277</td>\n",
       "      <td>Paramount White Rum</td>\n",
       "      <td>12</td>\n",
       "      <td>1000</td>\n",
       "      <td>4.34</td>\n",
       "      <td>6.51</td>\n",
       "      <td>12</td>\n",
       "      <td>78.12</td>\n",
       "      <td>12.0</td>\n",
       "      <td>3.17</td>\n",
       "    </tr>\n",
       "    <tr>\n",
       "      <th>3</th>\n",
       "      <td>S23334500013</td>\n",
       "      <td>01/06/2015</td>\n",
       "      <td>4810</td>\n",
       "      <td>Kum &amp; Go #518 / Ankeny</td>\n",
       "      <td>3603 NE OTTERVIEW CIRCLE</td>\n",
       "      <td>ANKENY</td>\n",
       "      <td>50021</td>\n",
       "      <td>POINT (-93.572458 41.760989)</td>\n",
       "      <td>77.0</td>\n",
       "      <td>Polk</td>\n",
       "      <td>...</td>\n",
       "      <td>43121</td>\n",
       "      <td>Bacardi Superior Rum Mini</td>\n",
       "      <td>12</td>\n",
       "      <td>500</td>\n",
       "      <td>5.54</td>\n",
       "      <td>8.31</td>\n",
       "      <td>1</td>\n",
       "      <td>8.31</td>\n",
       "      <td>0.5</td>\n",
       "      <td>0.13</td>\n",
       "    </tr>\n",
       "    <tr>\n",
       "      <th>4</th>\n",
       "      <td>S09742200010</td>\n",
       "      <td>12/27/2012</td>\n",
       "      <td>4025</td>\n",
       "      <td>Karam Kaur Khasriya Llc</td>\n",
       "      <td>702 13TH ST</td>\n",
       "      <td>BELLE PLAINE</td>\n",
       "      <td>52208</td>\n",
       "      <td>POINT (-92.277759 41.897052)</td>\n",
       "      <td>6.0</td>\n",
       "      <td>Benton</td>\n",
       "      <td>...</td>\n",
       "      <td>11298</td>\n",
       "      <td>Crown Royal Canadian Whisky</td>\n",
       "      <td>6</td>\n",
       "      <td>1750</td>\n",
       "      <td>31.00</td>\n",
       "      <td>46.49</td>\n",
       "      <td>2</td>\n",
       "      <td>92.98</td>\n",
       "      <td>3.5</td>\n",
       "      <td>0.92</td>\n",
       "    </tr>\n",
       "  </tbody>\n",
       "</table>\n",
       "<p>5 rows × 24 columns</p>\n",
       "</div>"
      ],
      "text/plain": [
       "  Invoice/Item Number        Date  Store Number  \\\n",
       "0        S24127700024  02/19/2015          3678   \n",
       "1        S15066200002  10/10/2013          2633   \n",
       "2        S19323500030  06/03/2014          2607   \n",
       "3        S23334500013  01/06/2015          4810   \n",
       "4        S09742200010  12/27/2012          4025   \n",
       "\n",
       "                             Store Name                   Address  \\\n",
       "0                       Smoke Shop, The           1918 SE 14TH ST   \n",
       "1          Hy-Vee #3 / BDI / Des Moines           3221 SE 14TH ST   \n",
       "2  Hy-Vee Wine and Spirits / Shenandoah            520 SO FREMONT   \n",
       "3                Kum & Go #518 / Ankeny  3603 NE OTTERVIEW CIRCLE   \n",
       "4               Karam Kaur Khasriya Llc               702 13TH ST   \n",
       "\n",
       "           City Zip Code                Store Location  County Number  County  \\\n",
       "0    DES MOINES    50320  POINT (-93.597011 41.570844)           77.0    Polk   \n",
       "1    DES MOINES    50320  POINT (-93.596754 41.554101)           77.0    Polk   \n",
       "2    SHENANDOAH    51601  POINT (-95.385111 40.761736)           73.0    Page   \n",
       "3        ANKENY    50021  POINT (-93.572458 41.760989)           77.0    Polk   \n",
       "4  BELLE PLAINE    52208  POINT (-92.277759 41.897052)            6.0  Benton   \n",
       "\n",
       "   ...  Item Number                 Item Description  Pack Bottle Volume (ml)  \\\n",
       "0  ...        41783     Uv Blue Raspberry Vodka Mini     6                500   \n",
       "1  ...       904969  Sabe Premiom Sake Double Barrel     6                750   \n",
       "2  ...        45277              Paramount White Rum    12               1000   \n",
       "3  ...        43121        Bacardi Superior Rum Mini    12                500   \n",
       "4  ...        11298      Crown Royal Canadian Whisky     6               1750   \n",
       "\n",
       "  State Bottle Cost State Bottle Retail  Bottles Sold  Sale (Dollars)  \\\n",
       "0              4.89                7.34             2           14.68   \n",
       "1             14.99               22.49             6          134.94   \n",
       "2              4.34                6.51            12           78.12   \n",
       "3              5.54                8.31             1            8.31   \n",
       "4             31.00               46.49             2           92.98   \n",
       "\n",
       "   Volume Sold (Liters)  Volume Sold (Gallons)  \n",
       "0                   1.0                   0.26  \n",
       "1                   4.5                   1.19  \n",
       "2                  12.0                   3.17  \n",
       "3                   0.5                   0.13  \n",
       "4                   3.5                   0.92  \n",
       "\n",
       "[5 rows x 24 columns]"
      ]
     },
     "execution_count": 41,
     "metadata": {},
     "output_type": "execute_result"
    }
   ],
   "source": [
    "data.head()"
   ]
  },
  {
   "cell_type": "code",
   "execution_count": 42,
   "id": "3a91619e",
   "metadata": {},
   "outputs": [
    {
     "name": "stdout",
     "output_type": "stream",
     "text": [
      "<class 'pandas.core.frame.DataFrame'>\n",
      "RangeIndex: 19666763 entries, 0 to 19666762\n",
      "Data columns (total 24 columns):\n",
      " #   Column                 Dtype  \n",
      "---  ------                 -----  \n",
      " 0   Invoice/Item Number    object \n",
      " 1   Date                   object \n",
      " 2   Store Number           int64  \n",
      " 3   Store Name             object \n",
      " 4   Address                object \n",
      " 5   City                   object \n",
      " 6   Zip Code               object \n",
      " 7   Store Location         object \n",
      " 8   County Number          float64\n",
      " 9   County                 object \n",
      " 10  Category               float64\n",
      " 11  Category Name          object \n",
      " 12  Vendor Number          float64\n",
      " 13  Vendor Name            object \n",
      " 14  Item Number            object \n",
      " 15  Item Description       object \n",
      " 16  Pack                   int64  \n",
      " 17  Bottle Volume (ml)     int64  \n",
      " 18  State Bottle Cost      float64\n",
      " 19  State Bottle Retail    float64\n",
      " 20  Bottles Sold           int64  \n",
      " 21  Sale (Dollars)         float64\n",
      " 22  Volume Sold (Liters)   float64\n",
      " 23  Volume Sold (Gallons)  float64\n",
      "dtypes: float64(8), int64(4), object(12)\n",
      "memory usage: 3.5+ GB\n"
     ]
    }
   ],
   "source": [
    "data.info()"
   ]
  },
  {
   "cell_type": "code",
   "execution_count": 43,
   "id": "eab646d9",
   "metadata": {},
   "outputs": [
    {
     "data": {
      "text/plain": [
       "Invoice/Item Number            0\n",
       "Date                           0\n",
       "Store Number                   0\n",
       "Store Name                     0\n",
       "Address                    79927\n",
       "City                       79926\n",
       "Zip Code                   79971\n",
       "Store Location           1886023\n",
       "County Number             156731\n",
       "County                    156729\n",
       "Category                   16974\n",
       "Category Name              25040\n",
       "Vendor Number                  5\n",
       "Vendor Name                    3\n",
       "Item Number                    0\n",
       "Item Description               0\n",
       "Pack                           0\n",
       "Bottle Volume (ml)             0\n",
       "State Bottle Cost             10\n",
       "State Bottle Retail           10\n",
       "Bottles Sold                   0\n",
       "Sale (Dollars)                10\n",
       "Volume Sold (Liters)           0\n",
       "Volume Sold (Gallons)          0\n",
       "dtype: int64"
      ]
     },
     "execution_count": 43,
     "metadata": {},
     "output_type": "execute_result"
    }
   ],
   "source": [
    "data.isnull().sum()"
   ]
  },
  {
   "cell_type": "code",
   "execution_count": 44,
   "id": "43fa016a",
   "metadata": {},
   "outputs": [],
   "source": [
    "data.drop([\"Invoice/Item Number\",\"Store Number\",\"Store Name\",\"Address\",\"City\",\"Zip Code\",\"Store Location\",\"County Number\",\n",
    "           \"County\",\"Category\",\"Category Name\",\"Vendor Number\",\"Vendor Name\",\"Item Number\",\"Item Description\"], axis=1, inplace=True)"
   ]
  },
  {
   "cell_type": "code",
   "execution_count": 45,
   "id": "389581a8",
   "metadata": {},
   "outputs": [
    {
     "name": "stdout",
     "output_type": "stream",
     "text": [
      "<class 'pandas.core.frame.DataFrame'>\n",
      "RangeIndex: 19666763 entries, 0 to 19666762\n",
      "Data columns (total 9 columns):\n",
      " #   Column                 Dtype  \n",
      "---  ------                 -----  \n",
      " 0   Date                   object \n",
      " 1   Pack                   int64  \n",
      " 2   Bottle Volume (ml)     int64  \n",
      " 3   State Bottle Cost      float64\n",
      " 4   State Bottle Retail    float64\n",
      " 5   Bottles Sold           int64  \n",
      " 6   Sale (Dollars)         float64\n",
      " 7   Volume Sold (Liters)   float64\n",
      " 8   Volume Sold (Gallons)  float64\n",
      "dtypes: float64(5), int64(3), object(1)\n",
      "memory usage: 1.3+ GB\n"
     ]
    }
   ],
   "source": [
    "data.info()"
   ]
  },
  {
   "cell_type": "code",
   "execution_count": 46,
   "id": "f77f3134",
   "metadata": {},
   "outputs": [],
   "source": [
    "data.dropna(inplace=True)"
   ]
  },
  {
   "cell_type": "code",
   "execution_count": 47,
   "id": "34dbe35c",
   "metadata": {},
   "outputs": [],
   "source": [
    "data.drop([\"Volume Sold (Gallons)\"], axis=1, inplace=True)"
   ]
  },
  {
   "cell_type": "code",
   "execution_count": 48,
   "id": "0b3e3f78",
   "metadata": {},
   "outputs": [
    {
     "name": "stdout",
     "output_type": "stream",
     "text": [
      "<class 'pandas.core.frame.DataFrame'>\n",
      "Int64Index: 19666753 entries, 0 to 19666762\n",
      "Data columns (total 8 columns):\n",
      " #   Column                Dtype  \n",
      "---  ------                -----  \n",
      " 0   Date                  object \n",
      " 1   Pack                  int64  \n",
      " 2   Bottle Volume (ml)    int64  \n",
      " 3   State Bottle Cost     float64\n",
      " 4   State Bottle Retail   float64\n",
      " 5   Bottles Sold          int64  \n",
      " 6   Sale (Dollars)        float64\n",
      " 7   Volume Sold (Liters)  float64\n",
      "dtypes: float64(4), int64(3), object(1)\n",
      "memory usage: 1.3+ GB\n"
     ]
    }
   ],
   "source": [
    "data.info()"
   ]
  },
  {
   "cell_type": "code",
   "execution_count": 49,
   "id": "3346f365",
   "metadata": {},
   "outputs": [
    {
     "data": {
      "text/plain": [
       "Date                    0\n",
       "Pack                    0\n",
       "Bottle Volume (ml)      0\n",
       "State Bottle Cost       0\n",
       "State Bottle Retail     0\n",
       "Bottles Sold            0\n",
       "Sale (Dollars)          0\n",
       "Volume Sold (Liters)    0\n",
       "dtype: int64"
      ]
     },
     "execution_count": 49,
     "metadata": {},
     "output_type": "execute_result"
    }
   ],
   "source": [
    "data.isnull().sum()"
   ]
  },
  {
   "cell_type": "code",
   "execution_count": 50,
   "id": "4e57a665",
   "metadata": {},
   "outputs": [],
   "source": [
    "data['Date'] = pd.to_datetime(data['Date'])"
   ]
  },
  {
   "cell_type": "code",
   "execution_count": 51,
   "id": "fc622a20",
   "metadata": {},
   "outputs": [],
   "source": [
    "data.to_csv(\"data_cleaned.csv\")"
   ]
  },
  {
   "cell_type": "code",
   "execution_count": 52,
   "id": "a203d2cd",
   "metadata": {},
   "outputs": [],
   "source": [
    "from scipy import stats\n",
    "import numpy as np"
   ]
  },
  {
   "cell_type": "code",
   "execution_count": 53,
   "id": "063b2cfa",
   "metadata": {},
   "outputs": [],
   "source": [
    "z_scores = np.abs(stats.zscore(data.select_dtypes(include=[np.number])))\n",
    "data = data[(z_scores < 3).all(axis=1)] "
   ]
  },
  {
   "cell_type": "code",
   "execution_count": 54,
   "id": "8682db38",
   "metadata": {},
   "outputs": [
    {
     "name": "stdout",
     "output_type": "stream",
     "text": [
      "<class 'pandas.core.frame.DataFrame'>\n",
      "Int64Index: 18804153 entries, 0 to 19666762\n",
      "Data columns (total 8 columns):\n",
      " #   Column                Dtype         \n",
      "---  ------                -----         \n",
      " 0   Date                  datetime64[ns]\n",
      " 1   Pack                  int64         \n",
      " 2   Bottle Volume (ml)    int64         \n",
      " 3   State Bottle Cost     float64       \n",
      " 4   State Bottle Retail   float64       \n",
      " 5   Bottles Sold          int64         \n",
      " 6   Sale (Dollars)        float64       \n",
      " 7   Volume Sold (Liters)  float64       \n",
      "dtypes: datetime64[ns](1), float64(4), int64(3)\n",
      "memory usage: 1.3 GB\n"
     ]
    }
   ],
   "source": [
    "data.info()"
   ]
  },
  {
   "cell_type": "code",
   "execution_count": 55,
   "id": "590f3930",
   "metadata": {},
   "outputs": [],
   "source": [
    "int_columns = data.select_dtypes(include=['int64']).columns\n",
    "for col in int_columns:\n",
    "    data[col] = pd.to_numeric(data[col], downcast='integer')"
   ]
  },
  {
   "cell_type": "code",
   "execution_count": 56,
   "id": "5d7d3134",
   "metadata": {},
   "outputs": [],
   "source": [
    "# Convert float64 columns to float32\n",
    "float_columns = data.select_dtypes(include=['float64']).columns\n",
    "for col in float_columns:\n",
    "    data[col] = pd.to_numeric(data[col], downcast='float')"
   ]
  },
  {
   "cell_type": "code",
   "execution_count": 57,
   "id": "7dcca5ae",
   "metadata": {},
   "outputs": [],
   "source": [
    "# Step 5: Feature Extraction from 'Date'\n",
    "data['Year'] = data['Date'].dt.year\n",
    "data['Month'] = data['Date'].dt.month\n",
    "data['Day'] = data['Date'].dt.day\n",
    "data['Weekday'] = data['Date'].dt.weekday  # Monday=0, Sunday=6"
   ]
  },
  {
   "cell_type": "code",
   "execution_count": 58,
   "id": "00d1a411",
   "metadata": {},
   "outputs": [],
   "source": [
    "processed_file_path = 'processed_sales_data.csv'\n",
    "data.to_csv(processed_file_path, index=False)"
   ]
  },
  {
   "cell_type": "code",
   "execution_count": 59,
   "id": "57182083",
   "metadata": {},
   "outputs": [],
   "source": [
    "import matplotlib.pyplot as plt\n",
    "import seaborn as sns"
   ]
  },
  {
   "cell_type": "code",
   "execution_count": 60,
   "id": "b7b01251",
   "metadata": {},
   "outputs": [
    {
     "name": "stdout",
     "output_type": "stream",
     "text": [
      "<class 'pandas.core.frame.DataFrame'>\n",
      "Int64Index: 18804153 entries, 0 to 19666762\n",
      "Data columns (total 12 columns):\n",
      " #   Column                Dtype         \n",
      "---  ------                -----         \n",
      " 0   Date                  datetime64[ns]\n",
      " 1   Pack                  int8          \n",
      " 2   Bottle Volume (ml)    int16         \n",
      " 3   State Bottle Cost     float32       \n",
      " 4   State Bottle Retail   float32       \n",
      " 5   Bottles Sold          int8          \n",
      " 6   Sale (Dollars)        float32       \n",
      " 7   Volume Sold (Liters)  float32       \n",
      " 8   Year                  int64         \n",
      " 9   Month                 int64         \n",
      " 10  Day                   int64         \n",
      " 11  Weekday               int64         \n",
      "dtypes: datetime64[ns](1), float32(4), int16(1), int64(4), int8(2)\n",
      "memory usage: 1.2 GB\n"
     ]
    }
   ],
   "source": [
    "data.info()"
   ]
  },
  {
   "cell_type": "code",
   "execution_count": 61,
   "id": "eb05f1b3",
   "metadata": {},
   "outputs": [
    {
     "data": {
      "text/html": [
       "<div>\n",
       "<style scoped>\n",
       "    .dataframe tbody tr th:only-of-type {\n",
       "        vertical-align: middle;\n",
       "    }\n",
       "\n",
       "    .dataframe tbody tr th {\n",
       "        vertical-align: top;\n",
       "    }\n",
       "\n",
       "    .dataframe thead th {\n",
       "        text-align: right;\n",
       "    }\n",
       "</style>\n",
       "<table border=\"1\" class=\"dataframe\">\n",
       "  <thead>\n",
       "    <tr style=\"text-align: right;\">\n",
       "      <th></th>\n",
       "      <th>Date</th>\n",
       "      <th>Pack</th>\n",
       "      <th>Bottle Volume (ml)</th>\n",
       "      <th>State Bottle Cost</th>\n",
       "      <th>State Bottle Retail</th>\n",
       "      <th>Bottles Sold</th>\n",
       "      <th>Sale (Dollars)</th>\n",
       "      <th>Volume Sold (Liters)</th>\n",
       "      <th>Year</th>\n",
       "      <th>Month</th>\n",
       "      <th>Day</th>\n",
       "      <th>Weekday</th>\n",
       "    </tr>\n",
       "  </thead>\n",
       "  <tbody>\n",
       "    <tr>\n",
       "      <th>0</th>\n",
       "      <td>2015-02-19</td>\n",
       "      <td>6</td>\n",
       "      <td>500</td>\n",
       "      <td>4.89</td>\n",
       "      <td>7.340000</td>\n",
       "      <td>2</td>\n",
       "      <td>14.680000</td>\n",
       "      <td>1.0</td>\n",
       "      <td>2015</td>\n",
       "      <td>2</td>\n",
       "      <td>19</td>\n",
       "      <td>3</td>\n",
       "    </tr>\n",
       "    <tr>\n",
       "      <th>1</th>\n",
       "      <td>2013-10-10</td>\n",
       "      <td>6</td>\n",
       "      <td>750</td>\n",
       "      <td>14.99</td>\n",
       "      <td>22.490000</td>\n",
       "      <td>6</td>\n",
       "      <td>134.940002</td>\n",
       "      <td>4.5</td>\n",
       "      <td>2013</td>\n",
       "      <td>10</td>\n",
       "      <td>10</td>\n",
       "      <td>3</td>\n",
       "    </tr>\n",
       "    <tr>\n",
       "      <th>2</th>\n",
       "      <td>2014-06-03</td>\n",
       "      <td>12</td>\n",
       "      <td>1000</td>\n",
       "      <td>4.34</td>\n",
       "      <td>6.510000</td>\n",
       "      <td>12</td>\n",
       "      <td>78.120003</td>\n",
       "      <td>12.0</td>\n",
       "      <td>2014</td>\n",
       "      <td>6</td>\n",
       "      <td>3</td>\n",
       "      <td>1</td>\n",
       "    </tr>\n",
       "    <tr>\n",
       "      <th>3</th>\n",
       "      <td>2015-01-06</td>\n",
       "      <td>12</td>\n",
       "      <td>500</td>\n",
       "      <td>5.54</td>\n",
       "      <td>8.310000</td>\n",
       "      <td>1</td>\n",
       "      <td>8.310000</td>\n",
       "      <td>0.5</td>\n",
       "      <td>2015</td>\n",
       "      <td>1</td>\n",
       "      <td>6</td>\n",
       "      <td>1</td>\n",
       "    </tr>\n",
       "    <tr>\n",
       "      <th>4</th>\n",
       "      <td>2012-12-27</td>\n",
       "      <td>6</td>\n",
       "      <td>1750</td>\n",
       "      <td>31.00</td>\n",
       "      <td>46.490002</td>\n",
       "      <td>2</td>\n",
       "      <td>92.980003</td>\n",
       "      <td>3.5</td>\n",
       "      <td>2012</td>\n",
       "      <td>12</td>\n",
       "      <td>27</td>\n",
       "      <td>3</td>\n",
       "    </tr>\n",
       "  </tbody>\n",
       "</table>\n",
       "</div>"
      ],
      "text/plain": [
       "        Date  Pack  Bottle Volume (ml)  State Bottle Cost  \\\n",
       "0 2015-02-19     6                 500               4.89   \n",
       "1 2013-10-10     6                 750              14.99   \n",
       "2 2014-06-03    12                1000               4.34   \n",
       "3 2015-01-06    12                 500               5.54   \n",
       "4 2012-12-27     6                1750              31.00   \n",
       "\n",
       "   State Bottle Retail  Bottles Sold  Sale (Dollars)  Volume Sold (Liters)  \\\n",
       "0             7.340000             2       14.680000                   1.0   \n",
       "1            22.490000             6      134.940002                   4.5   \n",
       "2             6.510000            12       78.120003                  12.0   \n",
       "3             8.310000             1        8.310000                   0.5   \n",
       "4            46.490002             2       92.980003                   3.5   \n",
       "\n",
       "   Year  Month  Day  Weekday  \n",
       "0  2015      2   19        3  \n",
       "1  2013     10   10        3  \n",
       "2  2014      6    3        1  \n",
       "3  2015      1    6        1  \n",
       "4  2012     12   27        3  "
      ]
     },
     "execution_count": 61,
     "metadata": {},
     "output_type": "execute_result"
    }
   ],
   "source": [
    "data.head()"
   ]
  },
  {
   "cell_type": "code",
   "execution_count": null,
   "id": "46d41edc",
   "metadata": {},
   "outputs": [],
   "source": [
    "data.describe()"
   ]
  },
  {
   "cell_type": "code",
   "execution_count": 62,
   "id": "c26e7759",
   "metadata": {
    "scrolled": true
   },
   "outputs": [
    {
     "name": "stderr",
     "output_type": "stream",
     "text": [
      "/Users/tarunvelvs/opt/anaconda3/lib/python3.9/site-packages/IPython/core/interactiveshell.py:3369: UserWarning: Parsing '31/12/2023' in DD/MM/YYYY format. Provide format or specify infer_datetime_format=True for consistent parsing.\n",
      "  exec(code_obj, self.user_global_ns, self.user_ns)\n"
     ]
    }
   ],
   "source": [
    "date_rng = pd.date_range(start='1/1/2020', end='31/12/2023', freq='D')\n",
    "sales_data = np.random.randint(1, 100, size=(len(date_rng)))\n"
   ]
  },
  {
   "cell_type": "code",
   "execution_count": 63,
   "id": "da95f68a",
   "metadata": {},
   "outputs": [],
   "source": [
    "# Constructing the DataFrame\n",
    "df_placeholder = pd.DataFrame(date_rng, columns=['Date'])\n",
    "df_placeholder['Sale (Dollars)'] = sales_data"
   ]
  },
  {
   "cell_type": "code",
   "execution_count": 64,
   "id": "a4f74316",
   "metadata": {},
   "outputs": [],
   "source": [
    "# Now we can sort and split the data\n",
    "df_placeholder.sort_values('Date', inplace=True)"
   ]
  },
  {
   "cell_type": "code",
   "execution_count": 65,
   "id": "6ad22ac1",
   "metadata": {},
   "outputs": [],
   "source": [
    "split_date = pd.Timestamp('01-07-2023')"
   ]
  },
  {
   "cell_type": "code",
   "execution_count": 66,
   "id": "30031fb0",
   "metadata": {},
   "outputs": [],
   "source": [
    "train_df = df_placeholder.loc[df_placeholder['Date'] < split_date]\n",
    "test_df = df_placeholder.loc[df_placeholder['Date'] >= split_date]"
   ]
  },
  {
   "cell_type": "code",
   "execution_count": 67,
   "id": "e8d59dd5",
   "metadata": {},
   "outputs": [
    {
     "data": {
      "text/plain": [
       "(        Date  Sale (Dollars)\n",
       " 0 2020-01-01              20\n",
       " 1 2020-01-02              13\n",
       " 2 2020-01-03              29\n",
       " 3 2020-01-04              64\n",
       " 4 2020-01-05              38,\n",
       "            Date  Sale (Dollars)\n",
       " 1102 2023-01-07              60\n",
       " 1103 2023-01-08              62\n",
       " 1104 2023-01-09              27\n",
       " 1105 2023-01-10              73\n",
       " 1106 2023-01-11              19)"
      ]
     },
     "execution_count": 67,
     "metadata": {},
     "output_type": "execute_result"
    }
   ],
   "source": [
    "train_df.head(), test_df.head()"
   ]
  },
  {
   "cell_type": "code",
   "execution_count": 68,
   "id": "c84167a5",
   "metadata": {},
   "outputs": [],
   "source": [
    "data.sort_values('Date', inplace=True)"
   ]
  },
  {
   "cell_type": "code",
   "execution_count": 69,
   "id": "2607e541",
   "metadata": {},
   "outputs": [],
   "source": [
    "from statsmodels.tsa.arima.model import ARIMA\n",
    "\n",
    "model = ARIMA(train_df['Sale (Dollars)'], order=(1,1,1)) # p=1, d=1, q=1 are example parameters\n",
    "fitted_model = model.fit()\n"
   ]
  },
  {
   "cell_type": "code",
   "execution_count": 70,
   "id": "0c84aef3",
   "metadata": {},
   "outputs": [],
   "source": [
    "# Now we can forecast\n",
    "forecast = fitted_model.get_forecast(steps=50)\n",
    "predictions = forecast.predicted_mean"
   ]
  },
  {
   "cell_type": "code",
   "execution_count": 71,
   "id": "26e65b52",
   "metadata": {},
   "outputs": [
    {
     "data": {
      "text/plain": [
       "1102    52.387786\n",
       "1103    52.436510\n",
       "1104    52.436882\n",
       "1105    52.436885\n",
       "1106    52.436885\n",
       "1107    52.436885\n",
       "1108    52.436885\n",
       "1109    52.436885\n",
       "1110    52.436885\n",
       "1111    52.436885\n",
       "1112    52.436885\n",
       "1113    52.436885\n",
       "1114    52.436885\n",
       "1115    52.436885\n",
       "1116    52.436885\n",
       "1117    52.436885\n",
       "1118    52.436885\n",
       "1119    52.436885\n",
       "1120    52.436885\n",
       "1121    52.436885\n",
       "1122    52.436885\n",
       "1123    52.436885\n",
       "1124    52.436885\n",
       "1125    52.436885\n",
       "1126    52.436885\n",
       "1127    52.436885\n",
       "1128    52.436885\n",
       "1129    52.436885\n",
       "1130    52.436885\n",
       "1131    52.436885\n",
       "1132    52.436885\n",
       "1133    52.436885\n",
       "1134    52.436885\n",
       "1135    52.436885\n",
       "1136    52.436885\n",
       "1137    52.436885\n",
       "1138    52.436885\n",
       "1139    52.436885\n",
       "1140    52.436885\n",
       "1141    52.436885\n",
       "1142    52.436885\n",
       "1143    52.436885\n",
       "1144    52.436885\n",
       "1145    52.436885\n",
       "1146    52.436885\n",
       "1147    52.436885\n",
       "1148    52.436885\n",
       "1149    52.436885\n",
       "1150    52.436885\n",
       "1151    52.436885\n",
       "Name: predicted_mean, dtype: float64"
      ]
     },
     "execution_count": 71,
     "metadata": {},
     "output_type": "execute_result"
    }
   ],
   "source": [
    "predictions"
   ]
  },
  {
   "cell_type": "code",
   "execution_count": 72,
   "id": "6b2cbd74",
   "metadata": {},
   "outputs": [
    {
     "name": "stdout",
     "output_type": "stream",
     "text": [
      "Mean Absolute Error (MAE): 21.290890943589115\n",
      "Mean Squared Error (MSE): 621.0448194960093\n",
      "Root Mean Squared Error (RMSE): 24.92077084473932\n"
     ]
    }
   ],
   "source": [
    "from sklearn.metrics import mean_squared_error, mean_absolute_error\n",
    "\n",
    "actuals = test_df['Sale (Dollars)'].head(50) \n",
    "\n",
    "# Calculate MAE\n",
    "mae = mean_absolute_error(actuals, predictions)\n",
    "print(f\"Mean Absolute Error (MAE): {mae}\")\n",
    "\n",
    "# Calculate MSE\n",
    "mse = mean_squared_error(actuals, predictions)\n",
    "print(f\"Mean Squared Error (MSE): {mse}\")\n",
    "\n",
    "# Calculate RMSE\n",
    "rmse = np.sqrt(mse)\n",
    "print(f\"Root Mean Squared Error (RMSE): {rmse}\")\n"
   ]
  },
  {
   "cell_type": "code",
   "execution_count": 73,
   "id": "56f0b111",
   "metadata": {},
   "outputs": [
    {
     "data": {
      "image/png": "[encoded data removed]",
      "text/plain": [
       "<Figure size 720x288 with 1 Axes>"
      ]
     },
     "metadata": {
      "needs_background": "light"
     },
     "output_type": "display_data"
    }
   ],
   "source": [
    "residuals = fitted_model.resid\n",
    "plt.figure(figsize=(10, 4))\n",
    "plt.plot(residuals)\n",
    "plt.title('Residuals from ARIMA Model')\n",
    "plt.xlabel('Date')\n",
    "plt.ylabel('Residual')\n",
    "plt.axhline(0, color='red', linestyle='--')\n",
    "plt.show()"
   ]
  },
  {
   "cell_type": "code",
   "execution_count": 74,
   "id": "40b67b96",
   "metadata": {},
   "outputs": [
    {
     "data": {
      "image/png": "[encoded data removed]",
      "text/plain": [
       "<Figure size 432x288 with 1 Axes>"
      ]
     },
     "metadata": {
      "needs_background": "light"
     },
     "output_type": "display_data"
    },
    {
     "name": "stderr",
     "output_type": "stream",
     "text": [
      "/Users/tarunvelvs/opt/anaconda3/lib/python3.9/site-packages/statsmodels/graphics/tsaplots.py:348: FutureWarning: The default method 'yw' can produce PACF values outside of the [-1,1] interval. After 0.13, the default will change tounadjusted Yule-Walker ('ywm'). You can use this method now by setting method='ywm'.\n",
      "  warnings.warn(\n"
     ]
    },
    {
     "data": {
      "image/png": "[encoded data removed]",
      "text/plain": [
       "<Figure size 432x288 with 1 Axes>"
      ]
     },
     "metadata": {
      "needs_background": "light"
     },
     "output_type": "display_data"
    }
   ],
   "source": [
    "from statsmodels.graphics.tsaplots import plot_acf, plot_pacf\n",
    "plot_acf(residuals)\n",
    "plt.title('ACF of Residuals')\n",
    "plt.show()\n",
    "plot_pacf(residuals)\n",
    "plt.title('PACF of Residuals')\n",
    "plt.show()"
   ]
  },
  {
   "cell_type": "code",
   "execution_count": 75,
   "id": "5120ca59",
   "metadata": {
    "scrolled": true
   },
   "outputs": [
    {
     "data": {
      "image/png": "[encoded data removed]",
      "text/plain": [
       "<Figure size 1080x864 with 4 Axes>"
      ]
     },
     "metadata": {
      "needs_background": "light"
     },
     "output_type": "display_data"
    }
   ],
   "source": [
    "fitted_model.plot_diagnostics(figsize=(15, 12))\n",
    "plt.show()"
   ]
  }
 ],
 "metadata": {
  "kernelspec": {
   "display_name": "Python 3 (ipykernel)",
   "language": "python",
   "name": "python3"
  },
  "language_info": {
   "codemirror_mode": {
    "name": "ipython",
    "version": 3
   },
   "file_extension": ".py",
   "mimetype": "text/x-python",
   "name": "python",
   "nbconvert_exporter": "python",
   "pygments_lexer": "ipython3",
   "version": "3.9.12"
  }
 },
 "nbformat": 4,
 "nbformat_minor": 5
}
